{
  "nbformat": 4,
  "nbformat_minor": 0,
  "metadata": {
    "colab": {
      "provenance": [],
      "mount_file_id": "1yuqNza02b8Hu0mgI98B-OM0F9cIJGGZG",
      "authorship_tag": "ABX9TyPt+hNsTaUfEiVZAAMCKBZa",
      "include_colab_link": true
    },
    "kernelspec": {
      "name": "python3",
      "display_name": "Python 3"
    },
    "language_info": {
      "name": "python"
    }
  },
  "cells": [
    {
      "cell_type": "markdown",
      "metadata": {
        "id": "view-in-github",
        "colab_type": "text"
      },
      "source": [
        "<a href=\"https://colab.research.google.com/github/A-b-h-i-r-a-m/Bharat-Intern-tasks/blob/master/Untitled13.ipynb\" target=\"_parent\"><img src=\"https://colab.research.google.com/assets/colab-badge.svg\" alt=\"Open In Colab\"/></a>"
      ]
    },
    {
      "cell_type": "code",
      "execution_count": 1,
      "metadata": {
        "id": "ZeWRTOZAtzcX"
      },
      "outputs": [],
      "source": [
        "import os\n",
        "import shutil\n",
        "from PIL import Image\n",
        "import numpy as np\n",
        "import random"
      ]
    },
    {
      "cell_type": "code",
      "source": [
        "# Define the paths\n",
        "dataset_path = '/content/drive/MyDrive/Data'  # Adjust this to your actual dataset path\n",
        "images_folder = '/content/drive/MyDrive/Images'\n",
        "masks_folder = '/content/drive/MyDrive/Masks'\n",
        "\n",
        "# Create the output folders if they don't exist\n",
        "if not os.path.exists(images_folder):\n",
        "    os.makedirs(images_folder)\n",
        "\n",
        "if not os.path.exists(masks_folder):\n",
        "    os.makedirs(masks_folder)\n",
        "\n",
        "# Function to load an image (not required, but keeping it in case needed for image manipulations)\n",
        "def load_image(image_path):\n",
        "    return Image.open(image_path)\n",
        "\n",
        "# Function to process the case folder and segregate based on masks\n",
        "def process_case(case_folder):\n",
        "    images = [img for img in os.listdir(case_folder) if img.endswith('.tif') and '_mask' not in img]\n",
        "\n",
        "    for image_file in images:\n",
        "        image_path = os.path.join(case_folder, image_file)\n",
        "        base_name = os.path.splitext(image_file)[0]\n",
        "\n",
        "        # Check for the existence of the corresponding mask file\n",
        "        mask_file = f'{base_name}_mask.tif'\n",
        "        mask_path = os.path.join(case_folder, mask_file)\n",
        "\n",
        "        if os.path.exists(mask_path):\n",
        "            # If mask exists, move both the image and mask to the masks folder\n",
        "            shutil.move(image_path, os.path.join(masks_folder, image_file))\n",
        "            shutil.move(mask_path, os.path.join(masks_folder, mask_file))\n",
        "        else:\n",
        "            # If no mask exists, move the image to the images folder\n",
        "            shutil.move(image_path, os.path.join(images_folder, image_file))\n",
        "\n",
        "# Iterate through each case folder\n",
        "for case_folder_name in os.listdir(dataset_path):\n",
        "    case_folder_path = os.path.join(dataset_path, case_folder_name)\n",
        "    if os.path.isdir(case_folder_path):\n",
        "        process_case(case_folder_path)\n",
        "\n",
        "print(\"Files have been moved to the respective folders.\")\n"
      ],
      "metadata": {
        "colab": {
          "base_uri": "https://localhost:8080/"
        },
        "id": "0QCKnLq8t1uX",
        "outputId": "66ef1946-7652-45e0-e4da-2bc2035d2b28"
      },
      "execution_count": 2,
      "outputs": [
        {
          "output_type": "stream",
          "name": "stdout",
          "text": [
            "Files have been moved to the respective folders.\n"
          ]
        }
      ]
    },
    {
      "cell_type": "code",
      "source": [
        "\n",
        "# Define the paths\n",
        "images_folder = '/content/drive/MyDrive/Images'\n",
        "train_folder = os.path.join(images_folder, 'train')\n",
        "test_folder = os.path.join(images_folder, 'test')\n",
        "\n",
        "# Create train and test folders if they don't exist\n",
        "if not os.path.exists(train_folder):\n",
        "    os.makedirs(train_folder)\n",
        "\n",
        "if not os.path.exists(test_folder):\n",
        "    os.makedirs(test_folder)\n",
        "\n",
        "# Get a list of all image files in the images folder\n",
        "image_files = [f for f in os.listdir(images_folder) if f.endswith('.tif')]\n",
        "\n",
        "# Shuffle the image files for randomness\n",
        "random.shuffle(image_files)\n",
        "\n",
        "# Split the image files: 80% for training, 20% for testing\n",
        "split_index = int(0.8 * len(image_files))\n",
        "train_images = image_files[:split_index]\n",
        "test_images = image_files[split_index:]\n",
        "\n",
        "# Move the training images to the train folder\n",
        "for image in train_images:\n",
        "    shutil.move(os.path.join(images_folder, image), os.path.join(train_folder, image))\n",
        "\n",
        "# Move the testing images to the test folder\n",
        "for image in test_images:\n",
        "    shutil.move(os.path.join(images_folder, image), os.path.join(test_folder, image))\n",
        "\n",
        "print(\"Images successfully split into training and testing sets.\")\n"
      ],
      "metadata": {
        "colab": {
          "base_uri": "https://localhost:8080/"
        },
        "id": "2_xwsjIiuV_m",
        "outputId": "2c513c6d-9988-4c53-bf6a-58a209138dba"
      },
      "execution_count": 3,
      "outputs": [
        {
          "output_type": "stream",
          "name": "stdout",
          "text": [
            "Images successfully split into training and testing sets.\n"
          ]
        }
      ]
    },
    {
      "cell_type": "code",
      "source": [],
      "metadata": {
        "id": "nnkO8ge6updB"
      },
      "execution_count": null,
      "outputs": []
    }
  ]
}